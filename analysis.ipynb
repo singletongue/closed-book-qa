{
 "cells": [
  {
   "cell_type": "code",
   "execution_count": 1,
   "metadata": {},
   "outputs": [],
   "source": [
    "import json\n",
    "from collections import Counter, defaultdict"
   ]
  },
  {
   "cell_type": "code",
   "execution_count": 2,
   "metadata": {},
   "outputs": [],
   "source": [
    "import numpy as np\n",
    "import pandas as pd\n",
    "import plotly.express as px\n",
    "import matplotlib.pyplot as plt\n",
    "from matplotlib.ticker import ScalarFormatter"
   ]
  },
  {
   "cell_type": "code",
   "execution_count": 3,
   "metadata": {},
   "outputs": [],
   "source": [
    "plt.rcParams[\"font.size\"] = 14"
   ]
  },
  {
   "cell_type": "code",
   "execution_count": 4,
   "metadata": {},
   "outputs": [],
   "source": [
    "def plot_freq(train_counts, savefig_path, xlabel='', ylabel=''):\n",
    "    plt.figure()\n",
    "    ax = train_counts.plot.bar(width=100.0, rot=0)\n",
    "    ax.set_xticks(np.arange(0,len(train_counts),5000))\n",
    "    ax.set_xticklabels(np.arange(0,len(train_counts),5000))\n",
    "    ax.grid(which='major', linewidth=0.5)\n",
    "    ax.set_axisbelow(True)\n",
    "    ax.set_xlabel(xlabel)\n",
    "    ax.set_ylabel(ylabel)\n",
    "    ax.set_xlim(-1000, len(train_counts)+1000)\n",
    "    plt.savefig(savefig_path, bbox_inches='tight')"
   ]
  },
  {
   "cell_type": "code",
   "execution_count": 5,
   "metadata": {},
   "outputs": [],
   "source": [
    "def count_unanswerable(target_dataset, train_counts):\n",
    "    num_unanswerable = 0\n",
    "    for _, item in target_dataset.iterrows():\n",
    "        entity = item['entity']\n",
    "        if entity not in train_counts:\n",
    "            num_unanswerable += 1\n",
    "    \n",
    "    ratio_unanswerable = (1 - num_unanswerable / len(target_dataset)) \n",
    "    return num_unanswerable, ratio_unanswerable"
   ]
  },
  {
   "cell_type": "code",
   "execution_count": 6,
   "metadata": {},
   "outputs": [],
   "source": [
    "def make_freq_accuracy_bins(prediction_path, train_counts, freq_bins):\n",
    "    freq_bins = list(sorted(freq_bins))\n",
    "    freq_accuracy_bins = defaultdict(list)\n",
    "    \n",
    "    with open(prediction_path) as f:\n",
    "        for line in f:\n",
    "            pred_data = json.loads(line)\n",
    "            pred_answer = pred_data['top10_labels'][0]\n",
    "            correct_answer = pred_data['metadata']['entity']\n",
    "            sid = pred_data['metadata'].get('sentence_index')\n",
    "            \n",
    "            accuracy = int(pred_answer == correct_answer)\n",
    "\n",
    "            if correct_answer in train_counts:\n",
    "                freq = train_counts[correct_answer]\n",
    "            else:\n",
    "                freq = 0\n",
    "            \n",
    "            for bin_label in freq_bins[::-1]:\n",
    "                if freq >= bin_label:\n",
    "                    break\n",
    "            else:\n",
    "                continue\n",
    "            \n",
    "            freq_accuracy_bins[bin_label].append(accuracy)\n",
    "                \n",
    "    freq_mean_accuracies = defaultdict(float)\n",
    "    for i, bin_label in enumerate(freq_bins):\n",
    "        accuracies = freq_accuracy_bins[bin_label]\n",
    "        assert len(accuracies) > 0\n",
    "        mean_accuracy = sum(accuracies) / len(accuracies)\n",
    "        if i < len(freq_bins) - 1 and freq_bins[i + 1] - bin_label == 1:\n",
    "            freq_mean_accuracies[bin_label] = mean_accuracy\n",
    "        else:\n",
    "            freq_mean_accuracies[f'{bin_label}+'] = mean_accuracy\n",
    "        \n",
    "        last_label = bin_label\n",
    "            \n",
    "    return freq_mean_accuracies"
   ]
  },
  {
   "cell_type": "code",
   "execution_count": 7,
   "metadata": {},
   "outputs": [],
   "source": [
    "def make_sid_accuracy_bins(prediction_path):\n",
    "    sid_accuracy_bins = defaultdict(list)\n",
    "    \n",
    "    with open(prediction_path) as f:\n",
    "        for line in f:\n",
    "            pred_data = json.loads(line)\n",
    "            pred_answer = pred_data['top10_labels'][0]\n",
    "            correct_answer = pred_data['metadata']['entity']\n",
    "            sid = pred_data['metadata'].get('sentence_index')\n",
    "            \n",
    "            accuracy = int(pred_answer == correct_answer)\n",
    "            \n",
    "            if sid is not None:\n",
    "                sid += 1  # 0-origin -> 1-origin\n",
    "                sid_label = '7+' if sid >= 7 else str(sid)\n",
    "                sid_accuracy_bins[sid_label].append(accuracy)\n",
    "        \n",
    "    sid_mean_accuracies = defaultdict(float)\n",
    "    for label in ['1', '2', '3', '4', '5', '6', '7+']:\n",
    "        if label in sid_accuracy_bins:\n",
    "            accuracies = sid_accuracy_bins[label]\n",
    "            assert len(accuracies) > 0\n",
    "            mean_accuracy = sum(accuracies) / len(accuracies)\n",
    "            sid_mean_accuracies[label] = mean_accuracy\n",
    "            \n",
    "    return sid_mean_accuracies"
   ]
  },
  {
   "cell_type": "code",
   "execution_count": 8,
   "metadata": {},
   "outputs": [],
   "source": [
    "def plot_accuracies(accuracies, savefig_path, xlabel='', ylabel=''):\n",
    "    plt.figure()\n",
    "    ax = accuracies.plot.bar(rot=0)\n",
    "    ax.grid(which='major', axis='y', linewidth=0.5)\n",
    "    ax.set_axisbelow(True)\n",
    "    ax.set_xlabel(xlabel)\n",
    "    ax.set_ylabel(ylabel)\n",
    "    ax.legend(fontsize=12)\n",
    "    plt.savefig(savefig_path, bbox_inches='tight')"
   ]
  },
  {
   "cell_type": "markdown",
   "metadata": {},
   "source": [
    "## Quizbowl"
   ]
  },
  {
   "cell_type": "code",
   "execution_count": 9,
   "metadata": {},
   "outputs": [],
   "source": [
    "QB_TRAIN_PATH = \"work/dataset/quizbowl/train_question.json\"\n",
    "QB_DEV_PATH = \"work/dataset/quizbowl/dev_question.json\"\n",
    "QB_EVAL_PATH = \"work/dataset/quizbowl/eval_question.json\"\n",
    "QB_TEST_PATH = \"work/dataset/quizbowl/test_question.json\""
   ]
  },
  {
   "cell_type": "code",
   "execution_count": 10,
   "metadata": {},
   "outputs": [],
   "source": [
    "qb_train = pd.read_json(open(QB_TRAIN_PATH).read(), orient='records', lines=True)\n",
    "qb_dev = pd.read_json(open(QB_DEV_PATH).read(), orient='records', lines=True)\n",
    "qb_eval = pd.read_json(open(QB_EVAL_PATH).read(), orient='records', lines=True)\n",
    "qb_test = pd.read_json(open(QB_TEST_PATH).read(), orient='records', lines=True)"
   ]
  },
  {
   "cell_type": "code",
   "execution_count": 11,
   "metadata": {},
   "outputs": [
    {
     "data": {
      "text/html": [
       "<div>\n",
       "<style scoped>\n",
       "    .dataframe tbody tr th:only-of-type {\n",
       "        vertical-align: middle;\n",
       "    }\n",
       "\n",
       "    .dataframe tbody tr th {\n",
       "        vertical-align: top;\n",
       "    }\n",
       "\n",
       "    .dataframe thead th {\n",
       "        text-align: right;\n",
       "    }\n",
       "</style>\n",
       "<table border=\"1\" class=\"dataframe\">\n",
       "  <thead>\n",
       "    <tr style=\"text-align: right;\">\n",
       "      <th></th>\n",
       "      <th>qanta_id</th>\n",
       "      <th>text</th>\n",
       "      <th>entity</th>\n",
       "      <th>text_unit</th>\n",
       "    </tr>\n",
       "  </thead>\n",
       "  <tbody>\n",
       "    <tr>\n",
       "      <th>0</th>\n",
       "      <td>0</td>\n",
       "      <td>After this character relates a story about how...</td>\n",
       "      <td>Queequeg</td>\n",
       "      <td>question</td>\n",
       "    </tr>\n",
       "    <tr>\n",
       "      <th>1</th>\n",
       "      <td>1</td>\n",
       "      <td>The oldest document written in this language i...</td>\n",
       "      <td>Romanian_language</td>\n",
       "      <td>question</td>\n",
       "    </tr>\n",
       "    <tr>\n",
       "      <th>2</th>\n",
       "      <td>2</td>\n",
       "      <td>This state's largest city endured an 1855 Rum ...</td>\n",
       "      <td>Maine</td>\n",
       "      <td>question</td>\n",
       "    </tr>\n",
       "    <tr>\n",
       "      <th>3</th>\n",
       "      <td>3</td>\n",
       "      <td>In one work, this man provides definitions for...</td>\n",
       "      <td>Charles_Sanders_Peirce</td>\n",
       "      <td>question</td>\n",
       "    </tr>\n",
       "    <tr>\n",
       "      <th>4</th>\n",
       "      <td>4</td>\n",
       "      <td>One family in this work flees France after res...</td>\n",
       "      <td>Frankenstein</td>\n",
       "      <td>question</td>\n",
       "    </tr>\n",
       "  </tbody>\n",
       "</table>\n",
       "</div>"
      ],
      "text/plain": [
       "   qanta_id                                               text  \\\n",
       "0         0  After this character relates a story about how...   \n",
       "1         1  The oldest document written in this language i...   \n",
       "2         2  This state's largest city endured an 1855 Rum ...   \n",
       "3         3  In one work, this man provides definitions for...   \n",
       "4         4  One family in this work flees France after res...   \n",
       "\n",
       "                   entity text_unit  \n",
       "0                Queequeg  question  \n",
       "1       Romanian_language  question  \n",
       "2                   Maine  question  \n",
       "3  Charles_Sanders_Peirce  question  \n",
       "4            Frankenstein  question  "
      ]
     },
     "execution_count": 11,
     "metadata": {},
     "output_type": "execute_result"
    }
   ],
   "source": [
    "qb_train.head()"
   ]
  },
  {
   "cell_type": "code",
   "execution_count": 12,
   "metadata": {},
   "outputs": [
    {
     "name": "stdout",
     "output_type": "stream",
     "text": [
      "Japan                    99\n",
      "China                    97\n",
      "Australia                97\n",
      "Spain                    89\n",
      "Brazil                   87\n",
      "                         ..\n",
      "Abel_Gance                1\n",
      "Arithmetic_logic_unit     1\n",
      "Acid–base_titration       1\n",
      "Mycenaean_Greece          1\n",
      "Kolmogorov_complexity     1\n",
      "Name: entity, Length: 25969, dtype: int64\n"
     ]
    }
   ],
   "source": [
    "qb_train_counts = qb_train['entity'].value_counts()\n",
    "print(qb_train_counts)"
   ]
  },
  {
   "cell_type": "code",
   "execution_count": 13,
   "metadata": {},
   "outputs": [
    {
     "data": {
      "image/png": "[encoded data removed]",
      "text/plain": [
       "<Figure size 432x288 with 1 Axes>"
      ]
     },
     "metadata": {
      "needs_background": "light"
     },
     "output_type": "display_data"
    }
   ],
   "source": [
    "plot_freq(qb_train_counts,\n",
    "          savefig_path='images/quizbowl_train_freq.pdf',\n",
    "          xlabel='Entities (sorted in descending order of frequency in train data)',\n",
    "          ylabel='Frequency in train data')"
   ]
  },
  {
   "cell_type": "code",
   "execution_count": 14,
   "metadata": {},
   "outputs": [
    {
     "data": {
      "text/plain": [
       "(0, 1.0)"
      ]
     },
     "execution_count": 14,
     "metadata": {},
     "output_type": "execute_result"
    }
   ],
   "source": [
    "count_unanswerable(qb_dev, qb_train_counts)"
   ]
  },
  {
   "cell_type": "code",
   "execution_count": 15,
   "metadata": {},
   "outputs": [
    {
     "data": {
      "text/plain": [
       "(307, 0.8614620938628159)"
      ]
     },
     "execution_count": 15,
     "metadata": {},
     "output_type": "execute_result"
    }
   ],
   "source": [
    "count_unanswerable(qb_eval, qb_train_counts)"
   ]
  },
  {
   "cell_type": "code",
   "execution_count": 16,
   "metadata": {},
   "outputs": [
    {
     "data": {
      "text/plain": [
       "(648, 0.8421052631578947)"
      ]
     },
     "execution_count": 16,
     "metadata": {},
     "output_type": "execute_result"
    }
   ],
   "source": [
    "count_unanswerable(qb_test, qb_train_counts)"
   ]
  },
  {
   "cell_type": "code",
   "execution_count": 17,
   "metadata": {},
   "outputs": [],
   "source": [
    "QB_EVAL_PRED_QUIZ_PATH = 'work/quizbowl/quiz/bert-base/prediction_eval_question.json'\n",
    "QB_EVAL_PRED_WIKI_TO_QUIZ_PATH = 'work/quizbowl/wiki_to_quiz/bert-base/prediction_eval_question.json'"
   ]
  },
  {
   "cell_type": "code",
   "execution_count": 18,
   "metadata": {},
   "outputs": [],
   "source": [
    "freq_bins = [1, 2, 5, 10]\n",
    "qb_freq_accuracies_quiz = make_freq_accuracy_bins(QB_EVAL_PRED_QUIZ_PATH, qb_train_counts, freq_bins)\n",
    "qb_freq_accuracies_wiki_to_quiz = make_freq_accuracy_bins(QB_EVAL_PRED_WIKI_TO_QUIZ_PATH, qb_train_counts, freq_bins)"
   ]
  },
  {
   "cell_type": "code",
   "execution_count": 20,
   "metadata": {},
   "outputs": [],
   "source": [
    "freq_labels = qb_freq_accuracies_quiz.keys()\n",
    "qb_freq_accuracies = pd.DataFrame(\n",
    "    data={\n",
    "        'Quiz': [qb_freq_accuracies_quiz[label] for label in freq_labels],\n",
    "        r'Wiki$\\rightarrow$Quiz': [qb_freq_accuracies_wiki_to_quiz[label] for label in freq_labels]\n",
    "    },\n",
    "    index=freq_labels)"
   ]
  },
  {
   "cell_type": "code",
   "execution_count": 21,
   "metadata": {},
   "outputs": [
    {
     "data": {
      "text/html": [
       "<div>\n",
       "<style scoped>\n",
       "    .dataframe tbody tr th:only-of-type {\n",
       "        vertical-align: middle;\n",
       "    }\n",
       "\n",
       "    .dataframe tbody tr th {\n",
       "        vertical-align: top;\n",
       "    }\n",
       "\n",
       "    .dataframe thead th {\n",
       "        text-align: right;\n",
       "    }\n",
       "</style>\n",
       "<table border=\"1\" class=\"dataframe\">\n",
       "  <thead>\n",
       "    <tr style=\"text-align: right;\">\n",
       "      <th></th>\n",
       "      <th>Quiz</th>\n",
       "      <th>Wiki$\\rightarrow$Quiz</th>\n",
       "    </tr>\n",
       "  </thead>\n",
       "  <tbody>\n",
       "    <tr>\n",
       "      <th>1</th>\n",
       "      <td>0.365000</td>\n",
       "      <td>0.510000</td>\n",
       "    </tr>\n",
       "    <tr>\n",
       "      <th>2+</th>\n",
       "      <td>0.704000</td>\n",
       "      <td>0.789333</td>\n",
       "    </tr>\n",
       "    <tr>\n",
       "      <th>5+</th>\n",
       "      <td>0.844193</td>\n",
       "      <td>0.889518</td>\n",
       "    </tr>\n",
       "    <tr>\n",
       "      <th>10+</th>\n",
       "      <td>0.902141</td>\n",
       "      <td>0.910296</td>\n",
       "    </tr>\n",
       "  </tbody>\n",
       "</table>\n",
       "</div>"
      ],
      "text/plain": [
       "         Quiz  Wiki$\\rightarrow$Quiz\n",
       "1    0.365000               0.510000\n",
       "2+   0.704000               0.789333\n",
       "5+   0.844193               0.889518\n",
       "10+  0.902141               0.910296"
      ]
     },
     "execution_count": 21,
     "metadata": {},
     "output_type": "execute_result"
    }
   ],
   "source": [
    "qb_freq_accuracies"
   ]
  },
  {
   "cell_type": "code",
   "execution_count": 22,
   "metadata": {},
   "outputs": [
    {
     "data": {
      "text/plain": [
       "<Figure size 432x288 with 0 Axes>"
      ]
     },
     "metadata": {},
     "output_type": "display_data"
    },
    {
     "data": {
      "image/png": "[encoded data removed]",
      "text/plain": [
       "<Figure size 432x288 with 1 Axes>"
      ]
     },
     "metadata": {
      "needs_background": "light"
     },
     "output_type": "display_data"
    }
   ],
   "source": [
    "plot_accuracies(qb_freq_accuracies,\n",
    "                savefig_path='images/quizbowl_freq_accuracies.pdf',\n",
    "                xlabel='Frequency of answer entities in Quiz data',\n",
    "                ylabel='Accuracy')"
   ]
  },
  {
   "cell_type": "code",
   "execution_count": null,
   "metadata": {},
   "outputs": [],
   "source": [
    "QB_DEV_PRED_QUIZ_SENT_PATH = 'work/quizbowl/quiz/bert-base/prediction_dev_sentence.json'\n",
    "QB_DEV_PRED_WIKI_TO_QUIZ_SENT_PATH = 'work/quizbowl/wiki_to_quiz/bert-base/prediction_dev_sentence.json'"
   ]
  },
  {
   "cell_type": "code",
   "execution_count": null,
   "metadata": {},
   "outputs": [],
   "source": [
    "qb_sid_accuracies_quiz = make_sid_accuracy_bins(QB_DEV_PRED_QUIZ_SENT_PATH)\n",
    "qb_sid_accuracies_wiki_to_quiz = make_sid_accuracy_bins(QB_DEV_PRED_WIKI_TO_QUIZ_SENT_PATH)"
   ]
  },
  {
   "cell_type": "code",
   "execution_count": null,
   "metadata": {},
   "outputs": [],
   "source": [
    "sid_labels = qb_sid_accuracies_quiz.keys()\n",
    "sid_accuracies = pd.DataFrame(\n",
    "    data={\n",
    "        'Quiz': [qb_sid_accuracies_quiz[label] for label in sid_labels],\n",
    "        r'Wiki$\\rightarrow$Quiz': [qb_sid_accuracies_wiki_to_quiz[label] for label in sid_labels]\n",
    "    },\n",
    "    index=sid_labels)"
   ]
  },
  {
   "cell_type": "code",
   "execution_count": null,
   "metadata": {},
   "outputs": [],
   "source": [
    "sid_accuracies"
   ]
  },
  {
   "cell_type": "code",
   "execution_count": null,
   "metadata": {},
   "outputs": [],
   "source": [
    "plot_accuracies(sid_accuracies,\n",
    "                savefig_path='images/quizbowl_sid_accuracies.pdf',\n",
    "                xlabel='Question sentence index',\n",
    "                ylabel='Accuracy')"
   ]
  },
  {
   "cell_type": "markdown",
   "metadata": {},
   "source": [
    "## TriviaQA"
   ]
  },
  {
   "cell_type": "code",
   "execution_count": 19,
   "metadata": {},
   "outputs": [],
   "source": [
    "TQ_TRAIN_PATH = \"work/dataset/triviaqa/train_question.json\"\n",
    "TQ_DEV_PATH = \"work/dataset/triviaqa/dev_question.json\"\n",
    "TQ_EVAL_PATH = \"work/dataset/triviaqa/dev_question.json\"\n",
    "TQ_WIKI_PATH = \"work/dataset/triviaqa/wiki_sentence_blingfire.json\""
   ]
  },
  {
   "cell_type": "code",
   "execution_count": 23,
   "metadata": {},
   "outputs": [],
   "source": [
    "tq_train = pd.read_json(open(TQ_TRAIN_PATH).read(), orient='records', lines=True)\n",
    "tq_dev = pd.read_json(open(TQ_DEV_PATH).read(), orient='records', lines=True)\n",
    "tq_eval = pd.read_json(open(TQ_EVAL_PATH).read(), orient='records', lines=True)\n",
    "tq_wiki = pd.read_json(open(TQ_WIKI_PATH).read(), orient='records', lines=True)"
   ]
  },
  {
   "cell_type": "code",
   "execution_count": 24,
   "metadata": {},
   "outputs": [
    {
     "data": {
      "text/html": [
       "<div>\n",
       "<style scoped>\n",
       "    .dataframe tbody tr th:only-of-type {\n",
       "        vertical-align: middle;\n",
       "    }\n",
       "\n",
       "    .dataframe tbody tr th {\n",
       "        vertical-align: top;\n",
       "    }\n",
       "\n",
       "    .dataframe thead th {\n",
       "        text-align: right;\n",
       "    }\n",
       "</style>\n",
       "<table border=\"1\" class=\"dataframe\">\n",
       "  <thead>\n",
       "    <tr style=\"text-align: right;\">\n",
       "      <th></th>\n",
       "      <th>question_id</th>\n",
       "      <th>text</th>\n",
       "      <th>entity</th>\n",
       "    </tr>\n",
       "  </thead>\n",
       "  <tbody>\n",
       "    <tr>\n",
       "      <th>0</th>\n",
       "      <td>tc_0</td>\n",
       "      <td>Who was President when the first Peanuts carto...</td>\n",
       "      <td>Harry_S._Truman</td>\n",
       "    </tr>\n",
       "    <tr>\n",
       "      <th>1</th>\n",
       "      <td>tc_1</td>\n",
       "      <td>Which American-born Sinclair won the Nobel Pri...</td>\n",
       "      <td>Sinclair_Lewis</td>\n",
       "    </tr>\n",
       "    <tr>\n",
       "      <th>2</th>\n",
       "      <td>tc_3</td>\n",
       "      <td>Where in England was Dame Judi Dench born?</td>\n",
       "      <td>York</td>\n",
       "    </tr>\n",
       "    <tr>\n",
       "      <th>3</th>\n",
       "      <td>tc_5</td>\n",
       "      <td>In which decade did Billboard magazine first p...</td>\n",
       "      <td>30s</td>\n",
       "    </tr>\n",
       "    <tr>\n",
       "      <th>4</th>\n",
       "      <td>tc_8</td>\n",
       "      <td>From which country did Angola achieve independ...</td>\n",
       "      <td>Portugal</td>\n",
       "    </tr>\n",
       "  </tbody>\n",
       "</table>\n",
       "</div>"
      ],
      "text/plain": [
       "  question_id                                               text  \\\n",
       "0        tc_0  Who was President when the first Peanuts carto...   \n",
       "1        tc_1  Which American-born Sinclair won the Nobel Pri...   \n",
       "2        tc_3         Where in England was Dame Judi Dench born?   \n",
       "3        tc_5  In which decade did Billboard magazine first p...   \n",
       "4        tc_8  From which country did Angola achieve independ...   \n",
       "\n",
       "            entity  \n",
       "0  Harry_S._Truman  \n",
       "1   Sinclair_Lewis  \n",
       "2             York  \n",
       "3              30s  \n",
       "4         Portugal  "
      ]
     },
     "execution_count": 24,
     "metadata": {},
     "output_type": "execute_result"
    }
   ],
   "source": [
    "tq_train.head()"
   ]
  },
  {
   "cell_type": "code",
   "execution_count": 25,
   "metadata": {},
   "outputs": [],
   "source": [
    "tq_train_counts = tq_train['entity'].value_counts()"
   ]
  },
  {
   "cell_type": "code",
   "execution_count": 26,
   "metadata": {},
   "outputs": [
    {
     "data": {
      "text/plain": [
       "Australia         153\n",
       "France            133\n",
       "New_Zealand       114\n",
       "Spain             102\n",
       "Italy             100\n",
       "                 ... \n",
       "Ur                  1\n",
       "Scoville_scale      1\n",
       "Keswick             1\n",
       "Komodo_dragon       1\n",
       "Muscat              1\n",
       "Name: entity, Length: 28689, dtype: int64"
      ]
     },
     "execution_count": 26,
     "metadata": {},
     "output_type": "execute_result"
    }
   ],
   "source": [
    "tq_train_counts"
   ]
  },
  {
   "cell_type": "code",
   "execution_count": 27,
   "metadata": {},
   "outputs": [
    {
     "data": {
      "image/png": "[encoded data removed]",
      "text/plain": [
       "<Figure size 432x288 with 1 Axes>"
      ]
     },
     "metadata": {
      "needs_background": "light"
     },
     "output_type": "display_data"
    }
   ],
   "source": [
    "plot_freq(tq_train_counts,\n",
    "          savefig_path='images/triviaqa_train_freq.pdf',\n",
    "          xlabel='Entities (sorted in descending order of frequency in train data)',\n",
    "          ylabel='Frequency in train data')"
   ]
  },
  {
   "cell_type": "code",
   "execution_count": 28,
   "metadata": {},
   "outputs": [],
   "source": [
    "TQ_EVAL_PRED_QUIZ_PATH = 'work/triviaqa/quiz/bert-base_30ep/prediction_eval_question.json'\n",
    "TQ_EVAL_PRED_WIKI_TO_QUIZ_PATH = 'work/triviaqa/wiki_to_quiz/bert-base/prediction_eval_question.json'"
   ]
  },
  {
   "cell_type": "code",
   "execution_count": 29,
   "metadata": {},
   "outputs": [],
   "source": [
    "freq_bins = [1, 2, 5, 10]\n",
    "tq_freq_accuracies_quiz = make_freq_accuracy_bins(TQ_EVAL_PRED_QUIZ_PATH, tq_train_counts, freq_bins)\n",
    "tq_freq_accuracies_wiki_to_quiz = make_freq_accuracy_bins(TQ_EVAL_PRED_WIKI_TO_QUIZ_PATH, tq_train_counts, freq_bins)"
   ]
  },
  {
   "cell_type": "code",
   "execution_count": 30,
   "metadata": {},
   "outputs": [],
   "source": [
    "freq_labels = tq_freq_accuracies_quiz.keys()\n",
    "tq_freq_accuracies = pd.DataFrame(\n",
    "    data={\n",
    "        'Quiz (30 epochs)': [tq_freq_accuracies_quiz[label] for label in freq_labels],\n",
    "        r'Wiki$\\rightarrow$Quiz': [tq_freq_accuracies_wiki_to_quiz[label] for label in freq_labels]\n",
    "    },\n",
    "    index=freq_labels)"
   ]
  },
  {
   "cell_type": "code",
   "execution_count": 31,
   "metadata": {},
   "outputs": [
    {
     "data": {
      "text/html": [
       "<div>\n",
       "<style scoped>\n",
       "    .dataframe tbody tr th:only-of-type {\n",
       "        vertical-align: middle;\n",
       "    }\n",
       "\n",
       "    .dataframe tbody tr th {\n",
       "        vertical-align: top;\n",
       "    }\n",
       "\n",
       "    .dataframe thead th {\n",
       "        text-align: right;\n",
       "    }\n",
       "</style>\n",
       "<table border=\"1\" class=\"dataframe\">\n",
       "  <thead>\n",
       "    <tr style=\"text-align: right;\">\n",
       "      <th></th>\n",
       "      <th>Quiz (30 epochs)</th>\n",
       "      <th>Wiki$\\rightarrow$Quiz</th>\n",
       "    </tr>\n",
       "  </thead>\n",
       "  <tbody>\n",
       "    <tr>\n",
       "      <th>1</th>\n",
       "      <td>0.275407</td>\n",
       "      <td>0.440041</td>\n",
       "    </tr>\n",
       "    <tr>\n",
       "      <th>2+</th>\n",
       "      <td>0.437993</td>\n",
       "      <td>0.560879</td>\n",
       "    </tr>\n",
       "    <tr>\n",
       "      <th>5+</th>\n",
       "      <td>0.492013</td>\n",
       "      <td>0.587061</td>\n",
       "    </tr>\n",
       "    <tr>\n",
       "      <th>10+</th>\n",
       "      <td>0.447461</td>\n",
       "      <td>0.543992</td>\n",
       "    </tr>\n",
       "  </tbody>\n",
       "</table>\n",
       "</div>"
      ],
      "text/plain": [
       "     Quiz (30 epochs)  Wiki$\\rightarrow$Quiz\n",
       "1            0.275407               0.440041\n",
       "2+           0.437993               0.560879\n",
       "5+           0.492013               0.587061\n",
       "10+          0.447461               0.543992"
      ]
     },
     "execution_count": 31,
     "metadata": {},
     "output_type": "execute_result"
    }
   ],
   "source": [
    "tq_freq_accuracies"
   ]
  },
  {
   "cell_type": "code",
   "execution_count": 32,
   "metadata": {},
   "outputs": [
    {
     "data": {
      "text/plain": [
       "<Figure size 432x288 with 0 Axes>"
      ]
     },
     "metadata": {},
     "output_type": "display_data"
    },
    {
     "data": {
      "image/png": "[encoded data removed]",
      "text/plain": [
       "<Figure size 432x288 with 1 Axes>"
      ]
     },
     "metadata": {
      "needs_background": "light"
     },
     "output_type": "display_data"
    }
   ],
   "source": [
    "plot_accuracies(tq_freq_accuracies,\n",
    "                savefig_path='images/triviaqa_freq_accuracies.pdf',\n",
    "                xlabel='Frequency of answer entities in Quiz data',\n",
    "                ylabel='Accuracy')"
   ]
  },
  {
   "cell_type": "code",
   "execution_count": 47,
   "metadata": {},
   "outputs": [
    {
     "data": {
      "image/png": "[encoded data removed]",
      "text/plain": [
       "<Figure size 648x216 with 2 Axes>"
      ]
     },
     "metadata": {
      "needs_background": "light"
     },
     "output_type": "display_data"
    }
   ],
   "source": [
    "fig, axes = plt.subplots(nrows=1, ncols=2, figsize=(9, 3))\n",
    "qb_freq_accuracies.plot.bar(ax=axes[0], ylim=(0.0, 1.0), rot=0, title='Quizbowl')\n",
    "axes[0].grid(which='major', axis='y', linewidth=0.5)\n",
    "axes[0].set_axisbelow(True)\n",
    "axes[0].set_xlabel('Freq. of answer entities in Quiz')\n",
    "axes[0].set_ylabel('Accuracy')\n",
    "axes[0].legend(loc='lower right', framealpha=0.9)\n",
    "tq_freq_accuracies.plot.bar(ax=axes[1], ylim=(0.0, 1.0), rot=0, title='TriviaQA')\n",
    "axes[1].grid(which='major', axis='y', linewidth=0.5)\n",
    "axes[1].set_axisbelow(True)\n",
    "axes[1].set_xlabel('Freq. of answer entities in Quiz')\n",
    "plt.savefig('images/freq_accuracies.pdf', bbox_inches='tight')"
   ]
  },
  {
   "cell_type": "markdown",
   "metadata": {},
   "source": [
    "### Qualitative Analysis"
   ]
  },
  {
   "cell_type": "code",
   "execution_count": 41,
   "metadata": {},
   "outputs": [],
   "source": [
    "TQ_DEV_PRED_QUIZ_PATH = 'work/triviaqa/quiz/bert-base_30ep/prediction_dev_question.json'\n",
    "TQ_DEV_PRED_WIKI_TO_QUIZ_PATH = 'work/triviaqa/wiki_to_quiz/bert-base/prediction_dev_question.json'"
   ]
  },
  {
   "cell_type": "code",
   "execution_count": 42,
   "metadata": {},
   "outputs": [],
   "source": [
    "tq_dev = pd.read_json(open(TQ_DEV_PATH).read(), orient='records', lines=True)"
   ]
  },
  {
   "cell_type": "code",
   "execution_count": 43,
   "metadata": {},
   "outputs": [],
   "source": [
    "tq_dev_pred_quiz = pd.read_json(open(TQ_DEV_PRED_QUIZ_PATH).read(), orient='records', lines=True)\n",
    "tq_dev_pred_wiki_to_quiz = pd.read_json(open(TQ_DEV_PRED_WIKI_TO_QUIZ_PATH).read(), orient='records', lines=True)"
   ]
  },
  {
   "cell_type": "code",
   "execution_count": 44,
   "metadata": {},
   "outputs": [],
   "source": [
    "tq_dev_pred = tq_dev.join(tq_dev_pred_quiz).join(tq_dev_pred_wiki_to_quiz, lsuffix='_quiz', rsuffix='_wiki_to_quiz')"
   ]
  },
  {
   "cell_type": "code",
   "execution_count": 45,
   "metadata": {},
   "outputs": [
    {
     "data": {
      "text/html": [
       "<div>\n",
       "<style scoped>\n",
       "    .dataframe tbody tr th:only-of-type {\n",
       "        vertical-align: middle;\n",
       "    }\n",
       "\n",
       "    .dataframe tbody tr th {\n",
       "        vertical-align: top;\n",
       "    }\n",
       "\n",
       "    .dataframe thead th {\n",
       "        text-align: right;\n",
       "    }\n",
       "</style>\n",
       "<table border=\"1\" class=\"dataframe\">\n",
       "  <thead>\n",
       "    <tr style=\"text-align: right;\">\n",
       "      <th></th>\n",
       "      <th>question_id</th>\n",
       "      <th>text</th>\n",
       "      <th>entity</th>\n",
       "      <th>metadata_quiz</th>\n",
       "      <th>top10_labels_quiz</th>\n",
       "      <th>rank_quiz</th>\n",
       "      <th>metadata_wiki_to_quiz</th>\n",
       "      <th>top10_labels_wiki_to_quiz</th>\n",
       "      <th>rank_wiki_to_quiz</th>\n",
       "    </tr>\n",
       "  </thead>\n",
       "  <tbody>\n",
       "    <tr>\n",
       "      <th>0</th>\n",
       "      <td>tc_33</td>\n",
       "      <td>Which Lloyd Webber musical premiered in the US...</td>\n",
       "      <td>Sunset_Boulevard</td>\n",
       "      <td>{'question_id': 'tc_33', 'text': 'Which Lloyd ...</td>\n",
       "      <td>[Cat, Cats_(disambiguation), Jesus_Christ_Supe...</td>\n",
       "      <td>72</td>\n",
       "      <td>{'question_id': 'tc_33', 'text': 'Which Lloyd ...</td>\n",
       "      <td>[The_Lion_King, Starlight_Express, Cats_(disam...</td>\n",
       "      <td>63</td>\n",
       "    </tr>\n",
       "    <tr>\n",
       "      <th>1</th>\n",
       "      <td>tc_40</td>\n",
       "      <td>Who was the next British Prime Minister after ...</td>\n",
       "      <td>Henry_Campbell-Bannerman</td>\n",
       "      <td>{'question_id': 'tc_40', 'text': 'Who was the ...</td>\n",
       "      <td>[James_Callaghan, Alec_Douglas-Home, Tony_Blai...</td>\n",
       "      <td>233</td>\n",
       "      <td>{'question_id': 'tc_40', 'text': 'Who was the ...</td>\n",
       "      <td>[David_Lloyd_George, Stanley_Baldwin, Bonar_La...</td>\n",
       "      <td>60</td>\n",
       "    </tr>\n",
       "    <tr>\n",
       "      <th>2</th>\n",
       "      <td>tc_56</td>\n",
       "      <td>What claimed the life of singer Kathleen Ferrier?</td>\n",
       "      <td>Cancer</td>\n",
       "      <td>{'question_id': 'tc_56', 'text': 'What claimed...</td>\n",
       "      <td>[Loch_Ness_Monster, Santa_Claus, Ned_Kelly, Th...</td>\n",
       "      <td>9097</td>\n",
       "      <td>{'question_id': 'tc_56', 'text': 'What claimed...</td>\n",
       "      <td>[Peter_Sutcliffe, Jack_the_Ripper, Charles_Man...</td>\n",
       "      <td>14507</td>\n",
       "    </tr>\n",
       "    <tr>\n",
       "      <th>3</th>\n",
       "      <td>tc_106</td>\n",
       "      <td>Which actress was voted Miss Greenwich Village...</td>\n",
       "      <td>Lauren_Bacall</td>\n",
       "      <td>{'question_id': 'tc_106', 'text': 'Which actre...</td>\n",
       "      <td>[Debbie_Reynolds, Elizabeth_Taylor, Marilyn_Mo...</td>\n",
       "      <td>16</td>\n",
       "      <td>{'question_id': 'tc_106', 'text': 'Which actre...</td>\n",
       "      <td>[Elizabeth_Taylor, Lana_Turner, Lauren_Bacall,...</td>\n",
       "      <td>3</td>\n",
       "    </tr>\n",
       "    <tr>\n",
       "      <th>4</th>\n",
       "      <td>tc_217</td>\n",
       "      <td>Which volcano in Tanzania is the highest mount...</td>\n",
       "      <td>Mount_Kilimanjaro</td>\n",
       "      <td>{'question_id': 'tc_217', 'text': 'Which volca...</td>\n",
       "      <td>[Mount_Kilimanjaro, Mount_Kenya, Aconcagua, Do...</td>\n",
       "      <td>1</td>\n",
       "      <td>{'question_id': 'tc_217', 'text': 'Which volca...</td>\n",
       "      <td>[Mount_Kilimanjaro, Mount_Kenya, Kenya, Lake_T...</td>\n",
       "      <td>1</td>\n",
       "    </tr>\n",
       "    <tr>\n",
       "      <th>...</th>\n",
       "      <td>...</td>\n",
       "      <td>...</td>\n",
       "      <td>...</td>\n",
       "      <td>...</td>\n",
       "      <td>...</td>\n",
       "      <td>...</td>\n",
       "      <td>...</td>\n",
       "      <td>...</td>\n",
       "      <td>...</td>\n",
       "    </tr>\n",
       "    <tr>\n",
       "      <th>5994</th>\n",
       "      <td>qg_4549</td>\n",
       "      <td>Where do you find the Bridal Veil, American, a...</td>\n",
       "      <td>Niagara_Falls</td>\n",
       "      <td>{'question_id': 'qg_4549', 'text': 'Where do y...</td>\n",
       "      <td>[Niagara_Falls, Washington, San_Francisco, Phi...</td>\n",
       "      <td>1</td>\n",
       "      <td>{'question_id': 'qg_4549', 'text': 'Where do y...</td>\n",
       "      <td>[Niagara_Falls, Disneyland, Jungle_Cruise, New...</td>\n",
       "      <td>1</td>\n",
       "    </tr>\n",
       "    <tr>\n",
       "      <th>5995</th>\n",
       "      <td>qg_4592</td>\n",
       "      <td>Whose backing band is known as The Miami Sound...</td>\n",
       "      <td>Gloria_Estefan</td>\n",
       "      <td>{'question_id': 'qg_4592', 'text': 'Whose back...</td>\n",
       "      <td>[David_Bowie, U2, Phil_Collins, Green_Day, Bru...</td>\n",
       "      <td>3469</td>\n",
       "      <td>{'question_id': 'qg_4592', 'text': 'Whose back...</td>\n",
       "      <td>[Jools_Holland, Sting, Justin_Timberlake, Glor...</td>\n",
       "      <td>4</td>\n",
       "    </tr>\n",
       "    <tr>\n",
       "      <th>5996</th>\n",
       "      <td>qg_4604</td>\n",
       "      <td>With a motto of Always Ready, Always There, wh...</td>\n",
       "      <td>National_Guard</td>\n",
       "      <td>{'question_id': 'qg_4604', 'text': 'With a mot...</td>\n",
       "      <td>[United_States_Coast_Guard, Federal_Bureau_of_...</td>\n",
       "      <td>14</td>\n",
       "      <td>{'question_id': 'qg_4604', 'text': 'With a mot...</td>\n",
       "      <td>[United_States_Coast_Guard, United_States_Mari...</td>\n",
       "      <td>6</td>\n",
       "    </tr>\n",
       "    <tr>\n",
       "      <th>5997</th>\n",
       "      <td>qg_4628</td>\n",
       "      <td>What is the name of the parson mentioned in th...</td>\n",
       "      <td>Brown</td>\n",
       "      <td>{'question_id': 'qg_4628', 'text': 'What is th...</td>\n",
       "      <td>[Jack, Santa_Claus, Hatmaking, Polly, Lewis_Ca...</td>\n",
       "      <td>7528</td>\n",
       "      <td>{'question_id': 'qg_4628', 'text': 'What is th...</td>\n",
       "      <td>[Dasher, Jack, God_Rest_You_Merry,_Gentlemen, ...</td>\n",
       "      <td>9771</td>\n",
       "    </tr>\n",
       "    <tr>\n",
       "      <th>5998</th>\n",
       "      <td>qg_4656</td>\n",
       "      <td>In what outdoor sport, sanctioned by the NHPA,...</td>\n",
       "      <td>Horseshoes</td>\n",
       "      <td>{'question_id': 'qg_4656', 'text': 'In what ou...</td>\n",
       "      <td>[Horseshoes, Biathlon, Underwater_hockey, Sing...</td>\n",
       "      <td>1</td>\n",
       "      <td>{'question_id': 'qg_4656', 'text': 'In what ou...</td>\n",
       "      <td>[Horseshoes, Quoits, Ten-pin_bowling, Croquet,...</td>\n",
       "      <td>1</td>\n",
       "    </tr>\n",
       "  </tbody>\n",
       "</table>\n",
       "<p>5999 rows × 9 columns</p>\n",
       "</div>"
      ],
      "text/plain": [
       "     question_id                                               text  \\\n",
       "0          tc_33  Which Lloyd Webber musical premiered in the US...   \n",
       "1          tc_40  Who was the next British Prime Minister after ...   \n",
       "2          tc_56  What claimed the life of singer Kathleen Ferrier?   \n",
       "3         tc_106  Which actress was voted Miss Greenwich Village...   \n",
       "4         tc_217  Which volcano in Tanzania is the highest mount...   \n",
       "...          ...                                                ...   \n",
       "5994     qg_4549  Where do you find the Bridal Veil, American, a...   \n",
       "5995     qg_4592  Whose backing band is known as The Miami Sound...   \n",
       "5996     qg_4604  With a motto of Always Ready, Always There, wh...   \n",
       "5997     qg_4628  What is the name of the parson mentioned in th...   \n",
       "5998     qg_4656  In what outdoor sport, sanctioned by the NHPA,...   \n",
       "\n",
       "                        entity  \\\n",
       "0             Sunset_Boulevard   \n",
       "1     Henry_Campbell-Bannerman   \n",
       "2                       Cancer   \n",
       "3                Lauren_Bacall   \n",
       "4            Mount_Kilimanjaro   \n",
       "...                        ...   \n",
       "5994             Niagara_Falls   \n",
       "5995            Gloria_Estefan   \n",
       "5996            National_Guard   \n",
       "5997                     Brown   \n",
       "5998                Horseshoes   \n",
       "\n",
       "                                          metadata_quiz  \\\n",
       "0     {'question_id': 'tc_33', 'text': 'Which Lloyd ...   \n",
       "1     {'question_id': 'tc_40', 'text': 'Who was the ...   \n",
       "2     {'question_id': 'tc_56', 'text': 'What claimed...   \n",
       "3     {'question_id': 'tc_106', 'text': 'Which actre...   \n",
       "4     {'question_id': 'tc_217', 'text': 'Which volca...   \n",
       "...                                                 ...   \n",
       "5994  {'question_id': 'qg_4549', 'text': 'Where do y...   \n",
       "5995  {'question_id': 'qg_4592', 'text': 'Whose back...   \n",
       "5996  {'question_id': 'qg_4604', 'text': 'With a mot...   \n",
       "5997  {'question_id': 'qg_4628', 'text': 'What is th...   \n",
       "5998  {'question_id': 'qg_4656', 'text': 'In what ou...   \n",
       "\n",
       "                                      top10_labels_quiz  rank_quiz  \\\n",
       "0     [Cat, Cats_(disambiguation), Jesus_Christ_Supe...         72   \n",
       "1     [James_Callaghan, Alec_Douglas-Home, Tony_Blai...        233   \n",
       "2     [Loch_Ness_Monster, Santa_Claus, Ned_Kelly, Th...       9097   \n",
       "3     [Debbie_Reynolds, Elizabeth_Taylor, Marilyn_Mo...         16   \n",
       "4     [Mount_Kilimanjaro, Mount_Kenya, Aconcagua, Do...          1   \n",
       "...                                                 ...        ...   \n",
       "5994  [Niagara_Falls, Washington, San_Francisco, Phi...          1   \n",
       "5995  [David_Bowie, U2, Phil_Collins, Green_Day, Bru...       3469   \n",
       "5996  [United_States_Coast_Guard, Federal_Bureau_of_...         14   \n",
       "5997  [Jack, Santa_Claus, Hatmaking, Polly, Lewis_Ca...       7528   \n",
       "5998  [Horseshoes, Biathlon, Underwater_hockey, Sing...          1   \n",
       "\n",
       "                                  metadata_wiki_to_quiz  \\\n",
       "0     {'question_id': 'tc_33', 'text': 'Which Lloyd ...   \n",
       "1     {'question_id': 'tc_40', 'text': 'Who was the ...   \n",
       "2     {'question_id': 'tc_56', 'text': 'What claimed...   \n",
       "3     {'question_id': 'tc_106', 'text': 'Which actre...   \n",
       "4     {'question_id': 'tc_217', 'text': 'Which volca...   \n",
       "...                                                 ...   \n",
       "5994  {'question_id': 'qg_4549', 'text': 'Where do y...   \n",
       "5995  {'question_id': 'qg_4592', 'text': 'Whose back...   \n",
       "5996  {'question_id': 'qg_4604', 'text': 'With a mot...   \n",
       "5997  {'question_id': 'qg_4628', 'text': 'What is th...   \n",
       "5998  {'question_id': 'qg_4656', 'text': 'In what ou...   \n",
       "\n",
       "                              top10_labels_wiki_to_quiz  rank_wiki_to_quiz  \n",
       "0     [The_Lion_King, Starlight_Express, Cats_(disam...                 63  \n",
       "1     [David_Lloyd_George, Stanley_Baldwin, Bonar_La...                 60  \n",
       "2     [Peter_Sutcliffe, Jack_the_Ripper, Charles_Man...              14507  \n",
       "3     [Elizabeth_Taylor, Lana_Turner, Lauren_Bacall,...                  3  \n",
       "4     [Mount_Kilimanjaro, Mount_Kenya, Kenya, Lake_T...                  1  \n",
       "...                                                 ...                ...  \n",
       "5994  [Niagara_Falls, Disneyland, Jungle_Cruise, New...                  1  \n",
       "5995  [Jools_Holland, Sting, Justin_Timberlake, Glor...                  4  \n",
       "5996  [United_States_Coast_Guard, United_States_Mari...                  6  \n",
       "5997  [Dasher, Jack, God_Rest_You_Merry,_Gentlemen, ...               9771  \n",
       "5998  [Horseshoes, Quoits, Ten-pin_bowling, Croquet,...                  1  \n",
       "\n",
       "[5999 rows x 9 columns]"
      ]
     },
     "execution_count": 45,
     "metadata": {},
     "output_type": "execute_result"
    }
   ],
   "source": [
    "tq_dev_pred"
   ]
  },
  {
   "cell_type": "code",
   "execution_count": 50,
   "metadata": {},
   "outputs": [],
   "source": [
    "tq_dev_pred_improved = tq_dev_pred.query('rank_quiz > 1 and rank_wiki_to_quiz == 1')"
   ]
  },
  {
   "cell_type": "code",
   "execution_count": 58,
   "metadata": {},
   "outputs": [
    {
     "name": "stdout",
     "output_type": "stream",
     "text": [
      "[* Question ID:] qw_5335\n",
      "[* Q.] What fictional Chinese-American detective, created by Earl Derr Biggers in 1923 for a novel published in 1925, was the subject of over 45 films made between 1926 and 1981?\n",
      "[* A.] Charlie_Chan\n",
      "[* Training Questions:]\n",
      " Which retro film character frequently referred to his ‘Number One son’ in his films?\n",
      " Warner Oland, Sydney Toler and Roland Winters have all played which fictional detective?\n",
      "[* Rank (Quiz, Wiki->Quiz):] 3 -> 1\n",
      "[* Top 10 (Quiz):] Earl_Derr_Biggers, Philip_Marlowe, Charlie_Chan, Fu_Manchu, Sax_Rohmer, Lord_Peter_Wimsey, John_Shaft, Shaft, Perry_Mason, Aladdin\n",
      "[* Top 10 (Wiki->Quiz):] Charlie_Chan, Earl_Derr_Biggers, Wyatt_Earp, Fu_Manchu, The_Flower_Drum_Song, Popeye, Dashiell_Hammett, Scarlett_O'Hara, Bruce_Lee, The_Great_Gatsby\n",
      "\n",
      "[* Question ID:] sfq_18010\n",
      "[* Q.] Which literary character is the best known creation of the writer Earl Derr Biggers?\n",
      "[* A.] Charlie_Chan\n",
      "[* Training Questions:]\n",
      " Which retro film character frequently referred to his ‘Number One son’ in his films?\n",
      " Warner Oland, Sydney Toler and Roland Winters have all played which fictional detective?\n",
      "[* Rank (Quiz, Wiki->Quiz):] 37 -> 1\n",
      "[* Top 10 (Quiz):] Lorna_Doone, Conan_the_Barbarian, Mr._Burns, Biggles, Richard_Hannay, Walter_Mitty, Mr._Magoo, Felix_Leiter, Bridget_Jones, The_Saint\n",
      "[* Top 10 (Wiki->Quiz):] Charlie_Chan, Atticus_Finch, Rumpole_of_the_Bailey, Popeye, W._E._Johns, Tintin, Scarlett_O'Hara, Tom_Sawyer, The_Great_Gatsby, Atlas_Shrugged\n",
      "\n",
      "[* Question ID:] odql_10029\n",
      "[* Q.] Written by Earl Derr Biggers in 1925, 'The House Without A Key' was the first novel to feature which Chinese- American detective?\n",
      "[* A.] Charlie_Chan\n",
      "[* Training Questions:]\n",
      " Which retro film character frequently referred to his ‘Number One son’ in his films?\n",
      " Warner Oland, Sydney Toler and Roland Winters have all played which fictional detective?\n",
      "[* Rank (Quiz, Wiki->Quiz):] 41 -> 1\n",
      "[* Top 10 (Quiz):] Philip_Marlowe, Earl_Derr_Biggers, Detective_Inspector_John_Rebus, Margery_Allingham, Sax_Rohmer, Michael_Connelly, John_Shaft, Perry_Mason, Pearl_S._Buck, G._K._Chesterton\n",
      "[* Top 10 (Wiki->Quiz):] Charlie_Chan, Earl_Derr_Biggers, The_Flower_Drum_Song, Fu_Manchu, Dashiell_Hammett, Bruce_Lee, List_of_Indiana_Jones_characters, Elmore_Leonard, Pearl_S._Buck, Philip_Marlowe\n",
      "\n"
     ]
    }
   ],
   "source": [
    "for t in tq_dev_pred_improved.itertuples():\n",
    "    if t.entity == 'Charlie_Chan':\n",
    "        print('[* Question ID:]', t.question_id)\n",
    "        print('[* Q.]', t.text)\n",
    "        print('[* A.]', t.entity)\n",
    "        print('[* Training Questions:]')\n",
    "        for question in tq_train.query(f'entity == \"{t.entity}\"')['text'].tolist():\n",
    "            print('', question)\n",
    "        print('[* Rank (Quiz, Wiki->Quiz):]', t.rank_quiz, '->', t.rank_wiki_to_quiz)\n",
    "        print('[* Top 10 (Quiz):]', ', '.join(t.top10_labels_quiz))\n",
    "        print('[* Top 10 (Wiki->Quiz):]', ', '.join(t.top10_labels_wiki_to_quiz))\n",
    "        print()"
   ]
  },
  {
   "cell_type": "code",
   "execution_count": 48,
   "metadata": {},
   "outputs": [
    {
     "data": {
      "text/plain": [
       "['Charlie Chan is a fictional character created by Earl Derr Biggers.']"
      ]
     },
     "execution_count": 48,
     "metadata": {},
     "output_type": "execute_result"
    }
   ],
   "source": [
    "tq_wiki.query('entity == \"Charlie_Chan\" and text.str.contains(\"fictional\")')['text'].tolist()"
   ]
  },
  {
   "cell_type": "code",
   "execution_count": null,
   "metadata": {},
   "outputs": [],
   "source": []
  }
 ],
 "metadata": {
  "kernelspec": {
   "display_name": "Python 3",
   "language": "python",
   "name": "python3"
  },
  "language_info": {
   "codemirror_mode": {
    "name": "ipython",
    "version": 3
   },
   "file_extension": ".py",
   "mimetype": "text/x-python",
   "name": "python",
   "nbconvert_exporter": "python",
   "pygments_lexer": "ipython3",
   "version": "3.7.6"
  }
 },
 "nbformat": 4,
 "nbformat_minor": 4
}
